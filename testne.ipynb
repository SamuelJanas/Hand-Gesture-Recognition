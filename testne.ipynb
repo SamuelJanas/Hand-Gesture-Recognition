{
 "cells": [
  {
   "cell_type": "code",
   "execution_count": 5,
   "metadata": {},
   "outputs": [],
   "source": [
    "import os\n",
    "import random\n",
    "import shutil\n",
    "# list directories from data/\n",
    "directories = os.listdir(\"data/hagrid-classification-512p/\")\n",
    "\n",
    "# copy 5000 random images from each directory to data/train/\n",
    "for directory in directories:\n",
    "    files = os.listdir(\"data/hagrid-classification-512p/\" + directory)\n",
    "    random.shuffle(files)\n",
    "    files = files[:5499]\n",
    "    os.makedirs(\"data/train/\" + directory, exist_ok=True)\n",
    "    for file in files:\n",
    "        shutil.copy(\"data/hagrid-classification-512p/\" + directory + \"/\" + file, \"data/train/\" + directory + \"/\" + file)\n"
   ]
  },
  {
   "cell_type": "code",
   "execution_count": null,
   "metadata": {},
   "outputs": [],
   "source": []
  }
 ],
 "metadata": {
  "kernelspec": {
   "display_name": "Python 3",
   "language": "python",
   "name": "python3"
  },
  "language_info": {
   "codemirror_mode": {
    "name": "ipython",
    "version": 3
   },
   "file_extension": ".py",
   "mimetype": "text/x-python",
   "name": "python",
   "nbconvert_exporter": "python",
   "pygments_lexer": "ipython3",
   "version": "3.10.0"
  }
 },
 "nbformat": 4,
 "nbformat_minor": 2
}
